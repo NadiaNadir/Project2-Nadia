{
 "cells": [
  {
   "cell_type": "markdown",
   "metadata": {},
   "source": [
    "# Apple Linear Regression"
   ]
  },
  {
   "cell_type": "markdown",
   "metadata": {},
   "source": [
    "## Import Dependencies"
   ]
  },
  {
   "cell_type": "code",
   "execution_count": 1,
   "metadata": {},
   "outputs": [
    {
     "name": "stdout",
     "output_type": "stream",
     "text": [
      "Looking in indexes: https://pypi.org/simple, https://pip.repos.neuron.amazonaws.com\n",
      "Collecting alpaca_trade_api\n",
      "  Downloading alpaca_trade_api-1.4.3-py3-none-any.whl (36 kB)\n",
      "Requirement already satisfied: PyYAML==5.4.1 in /home/ec2-user/anaconda3/envs/python3/lib/python3.6/site-packages (from alpaca_trade_api) (5.4.1)\n",
      "Requirement already satisfied: websocket-client<2,>=0.56.0 in /home/ec2-user/anaconda3/envs/python3/lib/python3.6/site-packages (from alpaca_trade_api) (0.59.0)\n",
      "Requirement already satisfied: pandas>=0.18.1 in /home/ec2-user/anaconda3/envs/python3/lib/python3.6/site-packages (from alpaca_trade_api) (1.1.5)\n",
      "Requirement already satisfied: msgpack==1.0.2 in /home/ec2-user/anaconda3/envs/python3/lib/python3.6/site-packages (from alpaca_trade_api) (1.0.2)\n",
      "Requirement already satisfied: requests<3,>2 in /home/ec2-user/anaconda3/envs/python3/lib/python3.6/site-packages (from alpaca_trade_api) (2.26.0)\n",
      "Collecting websockets<10,>=8.0\n",
      "  Downloading websockets-9.1-cp36-cp36m-manylinux2010_x86_64.whl (102 kB)\n",
      "     |████████████████████████████████| 102 kB 1.4 MB/s            \n",
      "\u001b[?25hCollecting aiohttp==3.7.4\n",
      "  Downloading aiohttp-3.7.4-cp36-cp36m-manylinux2014_x86_64.whl (1.3 MB)\n",
      "     |████████████████████████████████| 1.3 MB 76.1 MB/s            \n",
      "\u001b[?25hRequirement already satisfied: numpy>=1.11.1 in /home/ec2-user/anaconda3/envs/python3/lib/python3.6/site-packages (from alpaca_trade_api) (1.19.5)\n",
      "Requirement already satisfied: urllib3<2,>1.24 in /home/ec2-user/anaconda3/envs/python3/lib/python3.6/site-packages (from alpaca_trade_api) (1.26.7)\n",
      "Requirement already satisfied: multidict<7.0,>=4.5 in /home/ec2-user/anaconda3/envs/python3/lib/python3.6/site-packages (from aiohttp==3.7.4->alpaca_trade_api) (5.1.0)\n",
      "Requirement already satisfied: idna-ssl>=1.0 in /home/ec2-user/anaconda3/envs/python3/lib/python3.6/site-packages (from aiohttp==3.7.4->alpaca_trade_api) (1.1.0)\n",
      "Requirement already satisfied: yarl<2.0,>=1.0 in /home/ec2-user/anaconda3/envs/python3/lib/python3.6/site-packages (from aiohttp==3.7.4->alpaca_trade_api) (1.6.3)\n",
      "Requirement already satisfied: attrs>=17.3.0 in /home/ec2-user/anaconda3/envs/python3/lib/python3.6/site-packages (from aiohttp==3.7.4->alpaca_trade_api) (20.3.0)\n",
      "Requirement already satisfied: chardet<4.0,>=2.0 in /home/ec2-user/anaconda3/envs/python3/lib/python3.6/site-packages (from aiohttp==3.7.4->alpaca_trade_api) (3.0.4)\n",
      "Requirement already satisfied: typing-extensions>=3.6.5 in /home/ec2-user/anaconda3/envs/python3/lib/python3.6/site-packages (from aiohttp==3.7.4->alpaca_trade_api) (4.0.0)\n",
      "Collecting async-timeout<4.0,>=3.0\n",
      "  Downloading async_timeout-3.0.1-py3-none-any.whl (8.2 kB)\n",
      "Requirement already satisfied: python-dateutil>=2.7.3 in /home/ec2-user/anaconda3/envs/python3/lib/python3.6/site-packages (from pandas>=0.18.1->alpaca_trade_api) (2.8.1)\n",
      "Requirement already satisfied: pytz>=2017.2 in /home/ec2-user/anaconda3/envs/python3/lib/python3.6/site-packages (from pandas>=0.18.1->alpaca_trade_api) (2021.1)\n",
      "Requirement already satisfied: charset-normalizer~=2.0.0 in /home/ec2-user/anaconda3/envs/python3/lib/python3.6/site-packages (from requests<3,>2->alpaca_trade_api) (2.0.8)\n",
      "Requirement already satisfied: idna<4,>=2.5 in /home/ec2-user/anaconda3/envs/python3/lib/python3.6/site-packages (from requests<3,>2->alpaca_trade_api) (3.1)\n",
      "Requirement already satisfied: certifi>=2017.4.17 in /home/ec2-user/anaconda3/envs/python3/lib/python3.6/site-packages (from requests<3,>2->alpaca_trade_api) (2021.5.30)\n",
      "Requirement already satisfied: six in /home/ec2-user/anaconda3/envs/python3/lib/python3.6/site-packages (from websocket-client<2,>=0.56.0->alpaca_trade_api) (1.15.0)\n",
      "Installing collected packages: async-timeout, websockets, aiohttp, alpaca-trade-api\n",
      "  Attempting uninstall: async-timeout\n",
      "    Found existing installation: async-timeout 4.0.1\n",
      "    Uninstalling async-timeout-4.0.1:\n",
      "      Successfully uninstalled async-timeout-4.0.1\n",
      "  Attempting uninstall: aiohttp\n",
      "    Found existing installation: aiohttp 3.8.1\n",
      "    Uninstalling aiohttp-3.8.1:\n",
      "      Successfully uninstalled aiohttp-3.8.1\n",
      "\u001b[31mERROR: pip's dependency resolver does not currently take into account all the packages that are installed. This behaviour is the source of the following dependency conflicts.\n",
      "aiobotocore 1.3.0 requires botocore<1.20.50,>=1.20.49, but you have botocore 1.23.26 which is incompatible.\u001b[0m\n",
      "Successfully installed aiohttp-3.7.4 alpaca-trade-api-1.4.3 async-timeout-3.0.1 websockets-9.1\n"
     ]
    },
    {
     "name": "stderr",
     "output_type": "stream",
     "text": [
      "Matplotlib is building the font cache; this may take a moment.\n"
     ]
    }
   ],
   "source": [
    "import os\n",
    "import requests\n",
    "import pandas as pd\n",
    "import numpy as np\n",
    "!pip install alpaca_trade_api\n",
    "import alpaca_trade_api as tradeapi\n",
    "from dotenv import load_dotenv\n",
    "\n",
    "load_dotenv()\n"
   ]
  },
  {
   "cell_type": "markdown",
   "metadata": {},
   "source": [
    "### Plug into api"
   ]
  },
  {
   "cell_type": "code",
   "execution_count": 2,
   "metadata": {},
   "outputs": [],
   "source": [
    "alpaca_api_key = os.getenv(\"ALPACA_API_KEY\")\n",
    "alpaca_secret_key = os.getenv(\"ALPACA_SECRET_KEY\")\n",
    "\n",
    "api = tradeapi.REST(alpaca_api_key, alpaca_secret_key, api_version='v2')"
   ]
  },
  {
   "cell_type": "code",
   "execution_count": 2,
   "metadata": {},
   "outputs": [],
   "source": [
    "alpaca_api_key = os.getenv(\"ALPACA_API_KEY\")\n",
    "alpaca_secret_key = os.getenv(\"ALPACA_SECRET_KEY\")\n",
    "\n",
    "api = tradeapi.REST(alpaca_api_key, alpaca_secret_key, api_version='v2')"
   ]
  },
  {
   "cell_type": "code",
   "execution_count": 32,
   "metadata": {},
   "outputs": [
    {
     "name": "stdout",
     "output_type": "stream",
     "text": [
      "                              volume   close_\n",
      "timestamp                                    \n",
      "2020-06-08 04:00:00+00:00   23913861  333.580\n",
      "2020-06-09 04:00:00+00:00   36930243  343.990\n",
      "2020-06-10 04:00:00+00:00   41666592  352.840\n",
      "2020-06-11 04:00:00+00:00   50424541  335.981\n",
      "2020-06-12 04:00:00+00:00   50037720  338.800\n",
      "...                              ...      ...\n",
      "2021-12-02 05:00:00+00:00  136467187  163.760\n",
      "2021-12-03 05:00:00+00:00  117902691  161.840\n",
      "2021-12-06 05:00:00+00:00  107453163  165.320\n",
      "2021-12-07 05:00:00+00:00  120997807  171.180\n",
      "2021-12-08 05:00:00+00:00  116911182  175.080\n",
      "\n",
      "[381 rows x 2 columns]\n"
     ]
    }
   ],
   "source": [
    "from alpaca_trade_api.rest import REST, TimeFrame, TimeFrameUnit\n",
    "data_df = api.get_bars(\"AAPL\", TimeFrame(1, TimeFrameUnit.Day), \"2020-06-08\", \"2021-12-08\", adjustment='raw').df\n",
    "df = pd.DataFrame({'volume':data_df.volume,'close_':data_df.close})\n",
    "#print(data_df.columns)\n",
    "print(df)\n",
    "df.to_csv(\"~/SageMaker/Data/applexy.csv\")"
   ]
  },
  {
   "cell_type": "code",
   "execution_count": null,
   "metadata": {},
   "outputs": [],
   "source": []
  }
 ],
 "metadata": {
  "file_extension": ".py",
  "kernelspec": {
   "display_name": "conda_python3",
   "language": "python",
   "name": "conda_python3"
  },
  "language_info": {
   "codemirror_mode": {
    "name": "ipython",
    "version": 3
   },
   "file_extension": ".py",
   "mimetype": "text/x-python",
   "name": "python",
   "nbconvert_exporter": "python",
   "pygments_lexer": "ipython3",
   "version": "3.6.13"
  },
  "mimetype": "text/x-python",
  "name": "python",
  "npconvert_exporter": "python",
  "pygments_lexer": "ipython3",
  "version": 3
 },
 "nbformat": 4,
 "nbformat_minor": 4
}
