{
 "cells": [
  {
   "cell_type": "code",
   "execution_count": 12,
   "id": "801ce7b1-8cd1-475b-9622-814e33a190fe",
   "metadata": {},
   "outputs": [
    {
     "name": "stdout",
     "output_type": "stream",
     "text": [
      "\n",
      "Note: you may need to restart the kernel to use updated packages.\n"
     ]
    },
    {
     "name": "stderr",
     "output_type": "stream",
     "text": [
      "usage: conda-script.py [-h] [-V] command ...\n",
      "conda-script.py: error: unrecognized arguments: ta-lib\n"
     ]
    }
   ],
   "source": [
    "conda install -c conda-forge ta-lib"
   ]
  },
  {
   "cell_type": "code",
   "execution_count": 14,
   "id": "22fd22a8-139d-4332-bace-534d5ba10f36",
   "metadata": {},
   "outputs": [
    {
     "name": "stdout",
     "output_type": "stream",
     "text": [
      "Requirement already satisfied: websocket-client in c:\\users\\nadir qureshi\\anaconda3\\envs\\bottrade\\lib\\site-packages (1.2.3)\n"
     ]
    }
   ],
   "source": [
    "!pip3 install websocket-client"
   ]
  },
  {
   "cell_type": "code",
   "execution_count": 16,
   "id": "87b4d786-f428-45ae-89e0-c7d1d1a781cf",
   "metadata": {},
   "outputs": [
    {
     "name": "stdout",
     "output_type": "stream",
     "text": [
      "Collecting python-binance"
     ]
    },
    {
     "name": "stderr",
     "output_type": "stream",
     "text": [
      "ERROR: Could not find a version that satisfies the requirement numby (from versions: none)\n",
      "ERROR: No matching distribution found for numby\n"
     ]
    },
    {
     "name": "stdout",
     "output_type": "stream",
     "text": [
      "\n",
      "  Using cached python_binance-1.0.15-py2.py3-none-any.whl (63 kB)\n",
      "Collecting TA-Lib\n",
      "  Using cached TA-Lib-0.4.23.tar.gz (269 kB)\n"
     ]
    }
   ],
   "source": [
    "!pip install -r requirements.txt"
   ]
  },
  {
   "cell_type": "code",
   "execution_count": 18,
   "id": "8bb893fe-a3b0-4363-97a0-245ea2736603",
   "metadata": {},
   "outputs": [
    {
     "ename": "ModuleNotFoundError",
     "evalue": "No module named 'websocket'",
     "output_type": "error",
     "traceback": [
      "\u001b[1;31m---------------------------------------------------------------------------\u001b[0m",
      "\u001b[1;31mModuleNotFoundError\u001b[0m                       Traceback (most recent call last)",
      "\u001b[1;32mC:\\Users\\NADIRQ~1\\AppData\\Local\\Temp/ipykernel_10376/3870606848.py\u001b[0m in \u001b[0;36m<module>\u001b[1;34m\u001b[0m\n\u001b[0;32m      1\u001b[0m \u001b[1;31m# websocket: Patrt of WebsocketCleint Package.\u001b[0m\u001b[1;33m\u001b[0m\u001b[1;33m\u001b[0m\u001b[1;33m\u001b[0m\u001b[0m\n\u001b[1;32m----> 2\u001b[1;33m \u001b[1;32mimport\u001b[0m \u001b[0mwebsocket\u001b[0m\u001b[1;33m,\u001b[0m \u001b[0mjson\u001b[0m\u001b[1;33m,\u001b[0m \u001b[0mpprint\u001b[0m\u001b[1;33m,\u001b[0m \u001b[0mtalib\u001b[0m\u001b[1;33m,\u001b[0m \u001b[0mnumpy\u001b[0m\u001b[1;33m\u001b[0m\u001b[1;33m\u001b[0m\u001b[0m\n\u001b[0m\u001b[0;32m      3\u001b[0m \u001b[1;32mimport\u001b[0m \u001b[0mconfig\u001b[0m\u001b[1;33m\u001b[0m\u001b[1;33m\u001b[0m\u001b[0m\n\u001b[0;32m      4\u001b[0m \u001b[1;32mfrom\u001b[0m \u001b[0mbinance\u001b[0m\u001b[1;33m.\u001b[0m\u001b[0mclient\u001b[0m \u001b[1;32mimport\u001b[0m \u001b[0mClient\u001b[0m\u001b[1;33m\u001b[0m\u001b[1;33m\u001b[0m\u001b[0m\n\u001b[0;32m      5\u001b[0m \u001b[1;32mfrom\u001b[0m \u001b[0mbinance\u001b[0m\u001b[1;33m.\u001b[0m\u001b[0menums\u001b[0m \u001b[1;32mimport\u001b[0m \u001b[1;33m*\u001b[0m\u001b[1;33m\u001b[0m\u001b[1;33m\u001b[0m\u001b[0m\n",
      "\u001b[1;31mModuleNotFoundError\u001b[0m: No module named 'websocket'"
     ]
    }
   ],
   "source": [
    "# websocket: Patrt of WebsocketCleint Package.\n",
    "import websocket, json, pprint, talib, numpy\n",
    "import config\n",
    "from binance.client import Client\n",
    "from binance.enums import *"
   ]
  },
  {
   "cell_type": "code",
   "execution_count": 19,
   "id": "77afe7cc-6f96-4891-b820-0204e05154d4",
   "metadata": {},
   "outputs": [],
   "source": [
    "# SOCKET = Variable for Websocket. \n",
    "# streamname: https://github.com/binance/binance-spot-api-docs/blob/master/web-socket-streams.md#general-wss-information\n",
    "# I Add Symbol for ETH \"ethusd\", it provides proces for Ethereum.\n",
    "# then Adding kline then an interval of 1 minute. \n",
    "SOCKET = \"wss://stream.binance.com:9443/ws /ethusdt@kline_1m\""
   ]
  },
  {
   "cell_type": "code",
   "execution_count": 20,
   "id": "94e5d3b4-936e-451e-bd49-16ea6188669a",
   "metadata": {},
   "outputs": [],
   "source": [
    "RSI_PRIOD = 14\n",
    "RSI_OVERBOUGHT = 70\n",
    "RSI_OVERSOLD = 30\n",
    "TRADE_SYMBOL = 'ETHUSD'\n",
    "TRADE_QUANTITY = 0.005"
   ]
  },
  {
   "cell_type": "code",
   "execution_count": 21,
   "id": "377cbdfe-de0c-4558-9479-8ebbcd3d5571",
   "metadata": {},
   "outputs": [
    {
     "ename": "NameError",
     "evalue": "name 'Client' is not defined",
     "output_type": "error",
     "traceback": [
      "\u001b[1;31m---------------------------------------------------------------------------\u001b[0m",
      "\u001b[1;31mNameError\u001b[0m                                 Traceback (most recent call last)",
      "\u001b[1;32mC:\\Users\\NADIRQ~1\\AppData\\Local\\Temp/ipykernel_10376/209363247.py\u001b[0m in \u001b[0;36m<module>\u001b[1;34m\u001b[0m\n\u001b[0;32m      3\u001b[0m \u001b[1;33m\u001b[0m\u001b[0m\n\u001b[0;32m      4\u001b[0m \u001b[1;31m# change the country here\u001b[0m\u001b[1;33m\u001b[0m\u001b[1;33m\u001b[0m\u001b[1;33m\u001b[0m\u001b[0m\n\u001b[1;32m----> 5\u001b[1;33m \u001b[0mclient\u001b[0m \u001b[1;33m=\u001b[0m \u001b[0mClient\u001b[0m\u001b[1;33m(\u001b[0m\u001b[0mconfig\u001b[0m\u001b[1;33m.\u001b[0m\u001b[0mBINANCE_API_KEY\u001b[0m\u001b[1;33m,\u001b[0m \u001b[0mconfig\u001b[0m\u001b[1;33m.\u001b[0m\u001b[0mBINANCE_SECRET_KEY\u001b[0m\u001b[1;33m,\u001b[0m \u001b[0mtld\u001b[0m\u001b[1;33m=\u001b[0m\u001b[1;34m'us'\u001b[0m\u001b[1;33m)\u001b[0m\u001b[1;33m\u001b[0m\u001b[1;33m\u001b[0m\u001b[0m\n\u001b[0m",
      "\u001b[1;31mNameError\u001b[0m: name 'Client' is not defined"
     ]
    }
   ],
   "source": [
    "closes = []\n",
    "in_position = False\n",
    "\n",
    "# change the country here \n",
    "client = Client(config.BINANCE_API_KEY, config.BINANCE_SECRET_KEY, tld='us')  "
   ]
  },
  {
   "cell_type": "code",
   "execution_count": null,
   "id": "fe4a3e9f-5a20-4a7d-992d-918a1ca04588",
   "metadata": {},
   "outputs": [],
   "source": [
    "# ORDER FUNCTION\n",
    "def order(side, quantiy, symbol, order_type=ORDER_TYPE_MARKET):\n",
    "    try:\n",
    "        print(\"Sending Order\")\n",
    "        order = client.create_order(symbol=symbol, \n",
    "        side=side,\n",
    "        type=order_type,\n",
    "        quantity=quantity)\n",
    "        print(order)\n",
    "    except Exeption as e:\n",
    "        print(\"an exception occured - {}\".format(e))\n",
    "        return False\n",
    "    \n",
    "    return True"
   ]
  },
  {
   "cell_type": "code",
   "execution_count": 22,
   "id": "cee093d0-0737-4cf6-a6a5-34446e63c016",
   "metadata": {},
   "outputs": [],
   "source": [
    "# defining the Functions we called in Websocket client (2ndlast line)\n",
    "# (ws): Each of these functions need to receive an input of ws.\n",
    "def on_open(ws):\n",
    "    print('Opened Connection')"
   ]
  },
  {
   "cell_type": "code",
   "execution_count": 23,
   "id": "73f62978-0068-400e-9277-bcf0be4e70cb",
   "metadata": {},
   "outputs": [],
   "source": [
    "def on_close(ws):\n",
    "    print('Closed Connection')"
   ]
  },
  {
   "cell_type": "code",
   "execution_count": 24,
   "id": "93179cdc-fb65-4b71-9552-0e8208ef2a76",
   "metadata": {},
   "outputs": [],
   "source": [
    "# on_message recieves an actual message.    \n",
    "def on_message(ws, message):\n",
    "    global closes, in_position\n",
    "    \n",
    "    print('Received Message')\n",
    "    # it will take json string & convert to a Python data structure that we will use. \n",
    "    json_message = json.loads(message)\n",
    "    pprint.pprint(json_message)\n",
    "     \n",
    "    candle = json_message['k']\n",
    "    \n",
    "    is_candle_closed = candle['x']\n",
    "    close = candle['c']\n",
    "    \n",
    "    if is_candle_closed:\n",
    "        print(\"Candle Closed at {}\".format(close))\n",
    "        close.append(float(close))\n",
    "        print(\"Closes\")\n",
    "        print(closes)\n",
    "        \n",
    "        if len(closes) > RSI_PERIOD:\n",
    "            np_closes = numpy.array(closes)\n",
    "            rsi = talib.RSI(np_closes, RSI_PERIOD)\n",
    "            print(\"All RSIs Calculated so far\")\n",
    "            print(rsi)\n",
    "            last_rsi = rsi[-1]\n",
    "            print(\"The Current  RSI is {}\".format(last_rsi))\n",
    "            \n",
    "            if last_rsi > RSI_OVERBOUGHT:\n",
    "                if in_position:\n",
    "                    print(\"OVERBOUGHT! Sell! Sell! Sell!!!\")\n",
    "                    # Binance SELL-ORDER Logic here \n",
    "                    order_succeeded = order(SIDE_SELL, TRADE_QUANTITY, TRADE_SYMBOL)\n",
    "                    if order_succeeded:\n",
    "                        in_position = False\n",
    "                else: \n",
    "                    print(\"It is OVER BOUGHT, but We don't own any. Nothing to do.\")\n",
    "            \n",
    "            if last_rsi < RSI_OVERSOLD:\n",
    "                if in_position:\n",
    "                    print(\"It is OVERSOLD, but you already own it. Nothing to do\")\n",
    "                else:\n",
    "                    print(\"OVERSOLD! Buy! Buy! Buy!!!\")\n",
    "                    # Binance BUY-ORDER Logic here \n",
    "                    order_succeeded = order(SIDE_BUY, TRADE_QUANTITY, TRADE_SYMBOL)\n",
    "                    if order_succeeded:\n",
    "                        in_position = True"
   ]
  },
  {
   "cell_type": "code",
   "execution_count": 25,
   "id": "f3cafdde-7163-4bd0-9d72-acb3b57a09c3",
   "metadata": {},
   "outputs": [
    {
     "ename": "NameError",
     "evalue": "name 'websocket' is not defined",
     "output_type": "error",
     "traceback": [
      "\u001b[1;31m---------------------------------------------------------------------------\u001b[0m",
      "\u001b[1;31mNameError\u001b[0m                                 Traceback (most recent call last)",
      "\u001b[1;32mC:\\Users\\NADIRQ~1\\AppData\\Local\\Temp/ipykernel_10376/180441735.py\u001b[0m in \u001b[0;36m<module>\u001b[1;34m\u001b[0m\n\u001b[0;32m      3\u001b[0m \u001b[1;31m#The base endpoint is: wss://stream.binance.com:9443 (this is all the data stream from)\u001b[0m\u001b[1;33m\u001b[0m\u001b[1;33m\u001b[0m\u001b[1;33m\u001b[0m\u001b[0m\n\u001b[0;32m      4\u001b[0m \u001b[1;31m# then we will need callback functions.\u001b[0m\u001b[1;33m\u001b[0m\u001b[1;33m\u001b[0m\u001b[1;33m\u001b[0m\u001b[0m\n\u001b[1;32m----> 5\u001b[1;33m \u001b[0mws\u001b[0m \u001b[1;33m=\u001b[0m \u001b[0mwebsocket\u001b[0m\u001b[1;33m.\u001b[0m\u001b[0mWebSocketApp\u001b[0m\u001b[1;33m(\u001b[0m\u001b[0mSOCKET\u001b[0m\u001b[1;33m,\u001b[0m \u001b[0mon_open\u001b[0m\u001b[1;33m=\u001b[0m\u001b[0mon_open\u001b[0m\u001b[1;33m,\u001b[0m \u001b[0mon_close\u001b[0m\u001b[1;33m=\u001b[0m\u001b[0mon_close\u001b[0m\u001b[1;33m,\u001b[0m \u001b[0mon_message\u001b[0m\u001b[1;33m=\u001b[0m\u001b[0mon_message\u001b[0m\u001b[1;33m)\u001b[0m\u001b[1;33m\u001b[0m\u001b[1;33m\u001b[0m\u001b[0m\n\u001b[0m\u001b[0;32m      6\u001b[0m \u001b[1;31m# run forever\u001b[0m\u001b[1;33m\u001b[0m\u001b[1;33m\u001b[0m\u001b[1;33m\u001b[0m\u001b[0m\n\u001b[0;32m      7\u001b[0m \u001b[0mws\u001b[0m\u001b[1;33m.\u001b[0m\u001b[0mrun_forever\u001b[0m\u001b[1;33m(\u001b[0m\u001b[1;33m)\u001b[0m\u001b[1;33m\u001b[0m\u001b[1;33m\u001b[0m\u001b[0m\n",
      "\u001b[1;31mNameError\u001b[0m: name 'websocket' is not defined"
     ]
    }
   ],
   "source": [
    "# Create a New Websocket Client - i check the Bianance Documentation for differenct stream names.\n",
    "# https://github.com/binance/binance-spot-api-docs/blob/master/web-socket-streams.md#klinecandlestick-streams\n",
    "#The base endpoint is: wss://stream.binance.com:9443 (this is all the data stream from)\n",
    "# then we will need callback functions. \n",
    "ws = websocket.WebSocketApp(SOCKET, on_open=on_open, on_close=on_close, on_message=on_message)\n",
    "# run forever\n",
    "ws.run_forever()"
   ]
  },
  {
   "cell_type": "code",
   "execution_count": null,
   "id": "fb7c8569-8418-46b3-b45f-f62c2edb180c",
   "metadata": {},
   "outputs": [],
   "source": []
  }
 ],
 "metadata": {
  "kernelspec": {
   "display_name": "Python 3.8 (bot)",
   "language": "python",
   "name": "fintech"
  },
  "language_info": {
   "codemirror_mode": {
    "name": "ipython",
    "version": 3
   },
   "file_extension": ".py",
   "mimetype": "text/x-python",
   "name": "python",
   "nbconvert_exporter": "python",
   "pygments_lexer": "ipython3",
   "version": "3.8.12"
  }
 },
 "nbformat": 4,
 "nbformat_minor": 5
}
